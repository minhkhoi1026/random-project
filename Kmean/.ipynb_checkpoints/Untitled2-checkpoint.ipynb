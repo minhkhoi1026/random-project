{
 "cells": [
  {
   "cell_type": "code",
   "execution_count": 8,
   "id": "continuous-accountability",
   "metadata": {},
   "outputs": [
    {
     "ename": "NameError",
     "evalue": "name 'distanc_x' is not defined",
     "output_type": "error",
     "traceback": [
      "\u001b[1;31m---------------------------------------------------------------------------\u001b[0m",
      "\u001b[1;31mNameError\u001b[0m                                 Traceback (most recent call last)",
      "\u001b[1;32m<ipython-input-8-55a89ba5f770>\u001b[0m in \u001b[0;36m<module>\u001b[1;34m\u001b[0m\n\u001b[0;32m     69\u001b[0m \u001b[1;33m\u001b[0m\u001b[0m\n\u001b[0;32m     70\u001b[0m \u001b[1;33m\u001b[0m\u001b[0m\n\u001b[1;32m---> 71\u001b[1;33m \u001b[0mkmeans_test\u001b[0m\u001b[1;33m(\u001b[0m\u001b[1;34m'blobs'\u001b[0m\u001b[1;33m,\u001b[0m \u001b[0msmart\u001b[0m\u001b[1;33m=\u001b[0m\u001b[1;32mFalse\u001b[0m\u001b[1;33m)\u001b[0m   \u001b[1;31m# Uncomment de test cau hoi TH1\u001b[0m\u001b[1;33m\u001b[0m\u001b[1;33m\u001b[0m\u001b[0m\n\u001b[0m\u001b[0;32m     72\u001b[0m \u001b[1;31m# kmeans_testblobs(100, smart=False)  # Uncomment de test cau hoi TH2. Doi smart=False thanh smart=True de test centroi_smart_select cura ban\u001b[0m\u001b[1;33m\u001b[0m\u001b[1;33m\u001b[0m\u001b[1;33m\u001b[0m\u001b[0m\n\u001b[0;32m     73\u001b[0m \u001b[1;31m# kmeans_test('mouse', smart=False)   # Uncomment de test cau hoi TH3A. Doi smart=False thanh smart=True de so sanh output\u001b[0m\u001b[1;33m\u001b[0m\u001b[1;33m\u001b[0m\u001b[1;33m\u001b[0m\u001b[0m\n",
      "\u001b[1;32m<ipython-input-8-55a89ba5f770>\u001b[0m in \u001b[0;36mkmeans_test\u001b[1;34m(dataname, smart)\u001b[0m\n\u001b[0;32m     24\u001b[0m   \u001b[0mn_clusters\u001b[0m \u001b[1;33m=\u001b[0m \u001b[0mint\u001b[0m\u001b[1;33m(\u001b[0m\u001b[0mnp\u001b[0m\u001b[1;33m.\u001b[0m\u001b[0mmax\u001b[0m\u001b[1;33m(\u001b[0m\u001b[0my_true\u001b[0m\u001b[1;33m)\u001b[0m\u001b[1;33m)\u001b[0m \u001b[1;33m+\u001b[0m \u001b[1;36m1\u001b[0m\u001b[1;33m\u001b[0m\u001b[1;33m\u001b[0m\u001b[0m\n\u001b[0;32m     25\u001b[0m \u001b[1;33m\u001b[0m\u001b[0m\n\u001b[1;32m---> 26\u001b[1;33m   \u001b[0mcentroids_mykm\u001b[0m\u001b[1;33m,\u001b[0m \u001b[0my_pred_mykm\u001b[0m \u001b[1;33m=\u001b[0m \u001b[0mmy_kmeans\u001b[0m\u001b[1;33m(\u001b[0m\u001b[0mX\u001b[0m\u001b[1;33m,\u001b[0m \u001b[0mn_clusters\u001b[0m\u001b[1;33m=\u001b[0m\u001b[0mn_clusters\u001b[0m\u001b[1;33m,\u001b[0m \u001b[0msmart\u001b[0m\u001b[1;33m=\u001b[0m\u001b[0msmart\u001b[0m\u001b[1;33m)\u001b[0m\u001b[1;33m\u001b[0m\u001b[1;33m\u001b[0m\u001b[0m\n\u001b[0m\u001b[0;32m     27\u001b[0m   \u001b[0mscore_mykm\u001b[0m \u001b[1;33m=\u001b[0m \u001b[0mscore\u001b[0m\u001b[1;33m(\u001b[0m\u001b[0my_true\u001b[0m\u001b[1;33m,\u001b[0m \u001b[0my_pred_mykm\u001b[0m\u001b[1;33m)\u001b[0m\u001b[1;33m\u001b[0m\u001b[1;33m\u001b[0m\u001b[0m\n\u001b[0;32m     28\u001b[0m   print('Score: {}/{}. Accuracy: {}'.format(\n",
      "\u001b[1;32mE:\\playground\\Kmean\\my_kmeans2.py\u001b[0m in \u001b[0;36mmy_kmeans\u001b[1;34m(X, n_clusters, max_iter, smart)\u001b[0m\n\u001b[0;32m     70\u001b[0m         \u001b[1;32mfor\u001b[0m \u001b[0mi\u001b[0m \u001b[1;32min\u001b[0m \u001b[0mrange\u001b[0m\u001b[1;33m(\u001b[0m\u001b[0mX\u001b[0m\u001b[1;33m.\u001b[0m\u001b[0mshape\u001b[0m\u001b[1;33m[\u001b[0m\u001b[1;36m0\u001b[0m\u001b[1;33m]\u001b[0m\u001b[1;33m)\u001b[0m\u001b[1;33m:\u001b[0m\u001b[1;33m\u001b[0m\u001b[1;33m\u001b[0m\u001b[0m\n\u001b[0;32m     71\u001b[0m             \u001b[0mlabels\u001b[0m\u001b[1;33m[\u001b[0m\u001b[0mi\u001b[0m\u001b[1;33m]\u001b[0m\u001b[1;33m,\u001b[0m \u001b[0m_\u001b[0m \u001b[1;33m=\u001b[0m \u001b[0mfind_nearest_centroid\u001b[0m\u001b[1;33m(\u001b[0m\u001b[0mX\u001b[0m\u001b[1;33m[\u001b[0m\u001b[0mi\u001b[0m\u001b[1;33m]\u001b[0m\u001b[1;33m,\u001b[0m \u001b[0mcentroids\u001b[0m\u001b[1;33m)\u001b[0m\u001b[1;33m\u001b[0m\u001b[1;33m\u001b[0m\u001b[0m\n\u001b[1;32m---> 72\u001b[1;33m         \u001b[1;31m# voi moi cluster j, cap nhat lai centroid cho cluster j\u001b[0m\u001b[1;33m\u001b[0m\u001b[1;33m\u001b[0m\u001b[1;33m\u001b[0m\u001b[0m\n\u001b[0m\u001b[0;32m     73\u001b[0m         \u001b[0mnew_centroids\u001b[0m \u001b[1;33m=\u001b[0m \u001b[0mnp\u001b[0m\u001b[1;33m.\u001b[0m\u001b[0mempty\u001b[0m\u001b[1;33m(\u001b[0m\u001b[1;33m(\u001b[0m\u001b[0mn_clusters\u001b[0m\u001b[1;33m,\u001b[0m \u001b[0mX\u001b[0m\u001b[1;33m.\u001b[0m\u001b[0mshape\u001b[0m\u001b[1;33m[\u001b[0m\u001b[1;36m1\u001b[0m\u001b[1;33m]\u001b[0m\u001b[1;33m)\u001b[0m\u001b[1;33m)\u001b[0m\u001b[1;33m\u001b[0m\u001b[1;33m\u001b[0m\u001b[0m\n\u001b[0;32m     74\u001b[0m         \u001b[1;32mfor\u001b[0m \u001b[0mj\u001b[0m \u001b[1;32min\u001b[0m \u001b[0mrange\u001b[0m\u001b[1;33m(\u001b[0m\u001b[0mn_clusters\u001b[0m\u001b[1;33m)\u001b[0m\u001b[1;33m:\u001b[0m\u001b[1;33m\u001b[0m\u001b[1;33m\u001b[0m\u001b[0m\n",
      "\u001b[1;32mE:\\playground\\Kmean\\my_kmeans2.py\u001b[0m in \u001b[0;36mfind_nearest_centroid\u001b[1;34m(x, centroids)\u001b[0m\n\u001b[0;32m     43\u001b[0m     \u001b[0mlabel_x\u001b[0m\u001b[1;33m=\u001b[0m\u001b[0mnp\u001b[0m\u001b[1;33m.\u001b[0m\u001b[0margmin\u001b[0m\u001b[1;33m(\u001b[0m\u001b[0mD\u001b[0m\u001b[1;33m)\u001b[0m\u001b[1;33m\u001b[0m\u001b[1;33m\u001b[0m\u001b[0m\n\u001b[0;32m     44\u001b[0m     \u001b[0mdistance_x\u001b[0m\u001b[1;33m=\u001b[0m\u001b[0mnp\u001b[0m\u001b[1;33m.\u001b[0m\u001b[0mamin\u001b[0m\u001b[1;33m(\u001b[0m\u001b[0mD\u001b[0m\u001b[1;33m)\u001b[0m\u001b[1;33m\u001b[0m\u001b[1;33m\u001b[0m\u001b[0m\n\u001b[1;32m---> 45\u001b[1;33m     \u001b[1;32mreturn\u001b[0m \u001b[0mlabel_x\u001b[0m\u001b[1;33m,\u001b[0m \u001b[0mdistance_x\u001b[0m\u001b[1;33m\u001b[0m\u001b[1;33m\u001b[0m\u001b[0m\n\u001b[0m\u001b[0;32m     46\u001b[0m \u001b[1;33m\u001b[0m\u001b[0m\n\u001b[0;32m     47\u001b[0m \u001b[1;32mdef\u001b[0m \u001b[0mfind_new_centroid\u001b[0m\u001b[1;33m(\u001b[0m\u001b[0mX\u001b[0m\u001b[1;33m,\u001b[0m \u001b[0mlabels\u001b[0m\u001b[1;33m,\u001b[0m \u001b[0mj\u001b[0m\u001b[1;33m)\u001b[0m\u001b[1;33m:\u001b[0m\u001b[1;33m\u001b[0m\u001b[1;33m\u001b[0m\u001b[0m\n",
      "\u001b[1;31mNameError\u001b[0m: name 'distanc_x' is not defined"
     ]
    }
   ],
   "source": [
    "import numpy as np\n",
    "from itertools import permutations\n",
    "from sklearn import datasets\n",
    "from matplotlib import pyplot\n",
    "from my_kmeans2 import my_kmeans\n",
    "\n",
    "def score(y_true, y_pred):\n",
    "  n_clusters = int(np.max(y_true)) + 1\n",
    "  max_score = 0\n",
    "  for perm in permutations(list(range(n_clusters))):\n",
    "    perm_score = sum(\n",
    "      np.sum(np.logical_and(y_pred == perm[i], y_true == i))\n",
    "      for i in range(n_clusters)\n",
    "    )\n",
    "    if perm_score > max_score:\n",
    "      max_score = perm_score\n",
    "  # return maximum score among all possible permutations of labels\n",
    "  return max_score\n",
    "\n",
    "\n",
    "def kmeans_test(dataname, smart=False):\n",
    "  data = np.genfromtxt('{}.csv'.format(dataname), delimiter=',')\n",
    "  X, y_true = data[:, :2], data[:, 2]\n",
    "  n_clusters = int(np.max(y_true)) + 1\n",
    "\n",
    "  centroids_mykm, y_pred_mykm = my_kmeans(X, n_clusters=n_clusters, smart=smart)\n",
    "  score_mykm = score(y_true, y_pred_mykm)\n",
    "  print('Score: {}/{}. Accuracy: {}'.format(\n",
    "    score_mykm, y_true.shape[0], score_mykm / y_true.shape[0]\n",
    "  ))\n",
    "\n",
    "  pyplot.rcParams['figure.figsize'] = (10, 5)\n",
    "  pyplot.subplot(1, 2, 1).set_title('My K-means labels')\n",
    "  pyplot.scatter(X[:, 0], X[:, 1], c=y_pred_mykm, s=2)\n",
    "  pyplot.scatter(\n",
    "    centroids_mykm[:, 0], centroids_mykm[:, 1],\n",
    "    marker=(5, 1), c=np.arange(n_clusters), s=100)\n",
    "\n",
    "  pyplot.subplot(1, 2, 2).set_title('Correct labels')\n",
    "  pyplot.scatter(X[:, 0], X[:, 1], c=y_true, s=2)\n",
    "  pyplot.show()\n",
    "\n",
    "\n",
    "def kmeans_testblobs(n_trials=10, smart=False):\n",
    "  data = np.genfromtxt('{}.csv'.format('blobs'), delimiter=',')\n",
    "  X, y_true = data[:, :2], data[:, 2]\n",
    "  n_clusters = int(np.max(y_true)) + 1\n",
    "  scores = np.zeros(n_trials)\n",
    "\n",
    "  for t in range(n_trials):\n",
    "    centroids_mykm, y_pred_mykm = my_kmeans(X, n_clusters=n_clusters, smart=smart)\n",
    "    score_mykm = score(y_true, y_pred_mykm)\n",
    "    print('Trial t = {}. Score: {}/{}. Accuracy: {}'.format(\n",
    "      t+1, score_mykm, y_true.shape[0], score_mykm / y_true.shape[0]\n",
    "    ))\n",
    "    scores[t] = score_mykm\n",
    "\n",
    "  print('---------------------------------------------------')\n",
    "  print('Completed {} trials.'.format(n_trials))\n",
    "  average_score = np.mean(scores)\n",
    "  n_samples = y_true.shape[0]\n",
    "  print('Average score: {}/{} ({}%%)'.format(\n",
    "    average_score, n_samples, round(100 * average_score / n_samples, 2)\n",
    "  ))\n",
    "  n_perfect_trials = int(np.sum(scores == y_true.shape[0]))\n",
    "  print('Perfect score achieved: {}/{} trials ({}%%)'.format(\n",
    "    n_perfect_trials, n_trials, round(100 * n_perfect_trials / n_trials, 2)\n",
    "  ))\n",
    "\n",
    "\n",
    "kmeans_test('blobs', smart=False)   # Uncomment de test cau hoi TH1\n",
    "# kmeans_testblobs(100, smart=False)  # Uncomment de test cau hoi TH2. Doi smart=False thanh smart=True de test centroi_smart_select cura ban\n",
    "# kmeans_test('mouse', smart=False)   # Uncomment de test cau hoi TH3A. Doi smart=False thanh smart=True de so sanh output\n",
    "# kmeans_test('circles', smart=False) # Uncomment de test cau hoi TH3B. Doi smart=False thanh smart=True de so sanh output\n"
   ]
  },
  {
   "cell_type": "code",
   "execution_count": null,
   "id": "classified-spiritual",
   "metadata": {},
   "outputs": [],
   "source": []
  },
  {
   "cell_type": "code",
   "execution_count": null,
   "id": "funded-tuition",
   "metadata": {},
   "outputs": [],
   "source": []
  }
 ],
 "metadata": {
  "kernelspec": {
   "display_name": "Python 3",
   "language": "python",
   "name": "python3"
  },
  "language_info": {
   "codemirror_mode": {
    "name": "ipython",
    "version": 3
   },
   "file_extension": ".py",
   "mimetype": "text/x-python",
   "name": "python",
   "nbconvert_exporter": "python",
   "pygments_lexer": "ipython3",
   "version": "3.8.5"
  }
 },
 "nbformat": 4,
 "nbformat_minor": 5
}
